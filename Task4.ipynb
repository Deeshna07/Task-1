{
 "cells": [
  {
   "cell_type": "code",
   "execution_count": null,
   "id": "14fa1299-7cf7-4023-8cb6-2dc1a04637eb",
   "metadata": {},
   "outputs": [],
   "source": [
    "from flask import Flask\n",
    "from flask_sqlalchemy import SQLAlchemy\n",
    "from flask_cors import CORS\n",
    "\n",
    "db = SQLAlchemy()\n",
    "\n",
    "def create_app():\n",
    "    app = Flask(_name_)\n",
    "    app.config[\"SQLALCHEMY_DATABASE_URI\"] = \"sqlite:///todos.db\"\n",
    "    app.config[\"SQLALCHEMY_TRACK_MODIFICATIONS\"] = False\n",
    "\n",
    "    db.init_app(app)\n",
    "    CORS(app)\n",
    "\n",
    "    from .routes import main\n",
    "    app.register_blueprint(main)\n",
    "\n",
    "    with app.app_context():\n",
    "        db.create_all()\n",
    "\n",
    "    return app"
   ]
  },
  {
   "cell_type": "code",
   "execution_count": null,
   "id": "80dfe51c-1d0b-44c4-a77e-47f00406af08",
   "metadata": {},
   "outputs": [],
   "source": [
    "from . import db\n",
    "\n",
    "class Todo(db.Model):\n",
    "    id = db.Column(db.Integer, primary_key=True)\n",
    "    task = db.Column(db.String(200), nullable=False)\n",
    "    done = db.Column(db.Boolean, default=False)\n",
    "\n",
    "    def to_dict(self):\n",
    "        return {\"id\": self.id, \"task\": self.task, \"done\": self.done}"
   ]
  },
  {
   "cell_type": "code",
   "execution_count": null,
   "id": "cf8f144c-55b9-4ca5-b35e-58e17bd8872f",
   "metadata": {},
   "outputs": [],
   "source": [
    "from flask import Blueprint, request, jsonify\n",
    "from . import db\n",
    "from .models import Todo\n",
    "\n",
    "main = Blueprint(\"main\", _name_)\n",
    "\n",
    "@main.route(\"/todos\", methods=[\"GET\"])\n",
    "def list_todos():\n",
    "    todos = Todo.query.all()\n",
    "    return jsonify([t.to_dict() for t in todos]), 200\n",
    "\n",
    "@main.route(\"/todos/<int:todo_id>\", methods=[\"GET\"])\n",
    "def get_todo(todo_id):\n",
    "    todo = Todo.query.get(todo_id)\n",
    "    if not todo:\n",
    "        return jsonify({\"error\": \"Not found\"}), 404\n",
    "    return jsonify(todo.to_dict()), 200\n",
    "\n",
    "@main.route(\"/todos\", methods=[\"POST\"])\n",
    "def create_todo():\n",
    "    data = request.get_json()\n",
    "    if not data or \"task\" not in data:\n",
    "        return jsonify({\"error\": \"task is required\"}), 400\n",
    "    todo = Todo(task=data[\"task\"], done=data.get(\"done\", False))\n",
    "    db.session.add(todo)\n",
    "    db.session.commit()\n",
    "    return jsonify(todo.to_dict()), 201\n",
    "\n",
    "@main.route(\"/todos/<int:todo_id>\", methods=[\"PUT\"])\n",
    "def update_todo(todo_id):\n",
    "    todo = Todo.query.get(todo_id)\n",
    "    if not todo:\n",
    "        return jsonify({\"error\": \"Not found\"}), 404\n",
    "    data = request.get_json() or {}\n",
    "    todo.task = data.get(\"task\", todo.task)\n",
    "    todo.done = data.get(\"done\", todo.done)\n",
    "    db.session.commit()\n",
    "    return jsonify(todo.to_dict()), 200\n",
    "\n",
    "@main.route(\"/todos/<int:todo_id>\", methods=[\"DELETE\"])\n",
    "def delete_todo(todo_id):\n",
    "    todo = Todo.query.get(todo_id)\n",
    "    if not todo:\n",
    "        return jsonify({\"error\": \"Not found\"}), 404\n",
    "    db.session.delete(todo)\n",
    "    db.session.commit()\n",
    "    return \"\", 204"
   ]
  },
  {
   "cell_type": "code",
   "execution_count": null,
   "id": "858a6ca0-3c51-4475-af98-d9d8cd12ccb6",
   "metadata": {},
   "outputs": [],
   "source": [
    "from app import create_app\n",
    "\n",
    "app = create_app()\n",
    "\n",
    "if _name_ == \"_main_\":\n",
    "    app.run(debug=True)"
   ]
  }
 ],
 "metadata": {
  "kernelspec": {
   "display_name": "Python 3 (ipykernel)",
   "language": "python",
   "name": "python3"
  },
  "language_info": {
   "codemirror_mode": {
    "name": "ipython",
    "version": 3
   },
   "file_extension": ".py",
   "mimetype": "text/x-python",
   "name": "python",
   "nbconvert_exporter": "python",
   "pygments_lexer": "ipython3",
   "version": "3.12.4"
  }
 },
 "nbformat": 4,
 "nbformat_minor": 5
}
