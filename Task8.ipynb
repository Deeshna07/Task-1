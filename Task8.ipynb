{
 "cells": [
  {
   "cell_type": "code",
   "execution_count": 1,
   "id": "230569f2-06cc-4c06-8f23-166573de6d34",
   "metadata": {},
   "outputs": [
    {
     "name": "stdout",
     "output_type": "stream",
     "text": [
      "Hello! I’m ChatBot 🤖. Type 'exit' anytime to end the chat.\n"
     ]
    },
    {
     "name": "stdin",
     "output_type": "stream",
     "text": [
      "You:  HI\n"
     ]
    },
    {
     "name": "stdout",
     "output_type": "stream",
     "text": [
      "ChatBot: Hi there! How can I help you today?\n"
     ]
    },
    {
     "name": "stdin",
     "output_type": "stream",
     "text": [
      "You:  how are you\n"
     ]
    },
    {
     "name": "stdout",
     "output_type": "stream",
     "text": [
      "ChatBot: I’m just a bot, but I’m doing great! Thanks for asking.\n"
     ]
    },
    {
     "name": "stdin",
     "output_type": "stream",
     "text": [
      "You:  your name\n"
     ]
    },
    {
     "name": "stdout",
     "output_type": "stream",
     "text": [
      "ChatBot: I’m a simple rule-based chatbot created in Python.\n"
     ]
    },
    {
     "name": "stdin",
     "output_type": "stream",
     "text": [
      "You:  What can you do\n"
     ]
    },
    {
     "name": "stdout",
     "output_type": "stream",
     "text": [
      "ChatBot: I can answer basic questions, but I’m still learning.\n"
     ]
    },
    {
     "name": "stdin",
     "output_type": "stream",
     "text": [
      "You:  Bye\n"
     ]
    },
    {
     "name": "stdout",
     "output_type": "stream",
     "text": [
      "ChatBot: Bye! Take care.\n"
     ]
    }
   ],
   "source": [
    "\n",
    "print(\"Hello! I’m ChatBot 🤖. Type 'exit' anytime to end the chat.\")\n",
    "\n",
    "while True:\n",
    "    user_input = input(\"You: \").lower()  \n",
    "\n",
    "    if user_input == \"exit\":\n",
    "        print(\"ChatBot: Goodbye! Have a great day! \")\n",
    "        break\n",
    "\n",
    "    elif \"hello\" in user_input or \"hi\" in user_input:\n",
    "        print(\"ChatBot: Hi there! How can I help you today?\")\n",
    "\n",
    "    elif \"how are you\" in user_input:\n",
    "        print(\"ChatBot: I’m just a bot, but I’m doing great! Thanks for asking.\")\n",
    "\n",
    "    elif \"your name\" in user_input:\n",
    "        print(\"ChatBot: I’m a simple rule-based chatbot created in Python.\")\n",
    "\n",
    "    elif \"what can you do\" in user_input:\n",
    "        print(\"ChatBot: I can answer basic questions, but I’m still learning.\")\n",
    "\n",
    "    elif \"bye\" in user_input:\n",
    "        print(\"ChatBot: Bye! Take care.\")\n",
    "        break\n",
    "\n",
    "    else:\n",
    "        print(\"ChatBot: Sorry, I didn’t understand that.\")\n"
   ]
  },
  {
   "cell_type": "code",
   "execution_count": null,
   "id": "d364f690-ef28-407e-9b03-8958ef60b27e",
   "metadata": {},
   "outputs": [],
   "source": []
  }
 ],
 "metadata": {
  "kernelspec": {
   "display_name": "Python 3 (ipykernel)",
   "language": "python",
   "name": "python3"
  },
  "language_info": {
   "codemirror_mode": {
    "name": "ipython",
    "version": 3
   },
   "file_extension": ".py",
   "mimetype": "text/x-python",
   "name": "python",
   "nbconvert_exporter": "python",
   "pygments_lexer": "ipython3",
   "version": "3.12.4"
  }
 },
 "nbformat": 4,
 "nbformat_minor": 5
}
